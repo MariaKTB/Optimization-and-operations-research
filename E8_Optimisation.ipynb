{
 "cells": [
  {
   "cell_type": "code",
   "execution_count": 8,
   "id": "629b0d56",
   "metadata": {},
   "outputs": [],
   "source": [
    "import pandas as pd\n",
    "import numpy as np"
   ]
  },
  {
   "cell_type": "code",
   "execution_count": 9,
   "id": "a9f9f503",
   "metadata": {
    "scrolled": true
   },
   "outputs": [
    {
     "name": "stdout",
     "output_type": "stream",
     "text": [
      "Column names: Index(['project', 'revenue', 'days'], dtype='object')\n"
     ]
    }
   ],
   "source": [
    "data = pd.read_csv('/Users/mariakatibi/Desktop/projects.csv', delimiter=';')\n",
    "\n",
    "print(\"Column names:\", data.columns)\n",
    "\n",
    "revenues = data['revenue'].values\n",
    "days = data['days'].values\n",
    "\n",
    "# Total number of projects\n",
    "num_projects = len(revenues)\n",
    "\n",
    "# Maximum number of researcher days available\n",
    "max_days = 100 \n",
    "\n",
    "best_solution = None\n",
    "best_revenue = 0"
   ]
  },
  {
   "cell_type": "code",
   "execution_count": 10,
   "id": "4ce6a63f",
   "metadata": {},
   "outputs": [
    {
     "name": "stdout",
     "output_type": "stream",
     "text": [
      "Best Revenue: 42\n",
      "Best Solution: [0, 0, 0, 1, 0, 1]\n"
     ]
    }
   ],
   "source": [
    "def branch_and_bound(index, current_revenue, current_days, solution):\n",
    "    global best_solution, best_revenue\n",
    "    \n",
    "    if current_days > max_days:\n",
    "        return\n",
    "    \n",
    "    if index == num_projects:\n",
    "        if current_revenue > best_revenue:\n",
    "            best_solution = solution.copy()\n",
    "            best_revenue = current_revenue\n",
    "        return\n",
    "    \n",
    "    # Do not take the current project\n",
    "    branch_and_bound(index + 1, current_revenue, current_days, solution)\n",
    "    \n",
    "    # Take the current project\n",
    "    solution[index] = 1\n",
    "    branch_and_bound(index + 1, current_revenue + revenues[index], current_days + days[index], solution)\n",
    "    solution[index] = 0\n",
    "\n",
    "# Start the branch and bound process\n",
    "initial_solution = [0] * num_projects\n",
    "branch_and_bound(0, 0, 0, initial_solution)\n",
    "\n",
    "print(\"Best Revenue:\", best_revenue)\n",
    "print(\"Best Solution:\", best_solution)\n",
    "\n",
    "# Save the result to a CSV file\n",
    "result = pd.DataFrame({\n",
    "    'Project': np.arange(1, num_projects + 1),\n",
    "    'Selected': best_solution\n",
    "})\n",
    "result.to_csv('solution.csv', index=False)"
   ]
  }
 ],
 "metadata": {
  "kernelspec": {
   "display_name": "Python 3 (ipykernel)",
   "language": "python",
   "name": "python3"
  },
  "language_info": {
   "codemirror_mode": {
    "name": "ipython",
    "version": 3
   },
   "file_extension": ".py",
   "mimetype": "text/x-python",
   "name": "python",
   "nbconvert_exporter": "python",
   "pygments_lexer": "ipython3",
   "version": "3.11.5"
  }
 },
 "nbformat": 4,
 "nbformat_minor": 5
}
