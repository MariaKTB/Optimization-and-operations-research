{
 "cells": [
  {
   "cell_type": "code",
   "execution_count": 14,
   "id": "83256be4",
   "metadata": {},
   "outputs": [],
   "source": [
    "import pandas as pd \n",
    "import numpy as np\n",
    "from scipy.optimize import linprog\n",
    "import matplotlib.pyplot as plt"
   ]
  },
  {
   "cell_type": "code",
   "execution_count": 15,
   "id": "d4ab8499",
   "metadata": {},
   "outputs": [],
   "source": [
    "df = pd.read_csv('/Users/mariakatibi/Desktop/transParam.csv', delimiter=';')"
   ]
  },
  {
   "cell_type": "code",
   "execution_count": 16,
   "id": "c88706fc",
   "metadata": {},
   "outputs": [
    {
     "name": "stdout",
     "output_type": "stream",
     "text": [
      "Index(['Source', 'Destination', 'Demand', 'Cost '], dtype='object')\n"
     ]
    }
   ],
   "source": [
    "print(df.columns)"
   ]
  },
  {
   "cell_type": "code",
   "execution_count": 17,
   "id": "eb528205",
   "metadata": {},
   "outputs": [],
   "source": [
    "def northwest_corner(data):\n",
    "    supply = data.groupby('Source')['Demand'].sum()\n",
    "    demand = data.groupby('Destination')['Demand'].sum()\n",
    "    \n",
    "    num_sources = len(supply)\n",
    "    num_destinations = len(demand)\n",
    "    transportation_matrix = np.zeros((num_sources, num_destinations))\n",
    "    \n",
    "    i = 0\n",
    "    j = 0\n",
    "    while i < num_sources and j < num_destinations:\n",
    "        transportation_matrix[i, j] = min(supply[i], demand[j])\n",
    "        if supply[i] < demand[j]:\n",
    "            demand[j] -= supply[i]\n",
    "            i += 1\n",
    "        elif supply[i] > demand[j]:\n",
    "            supply[i] -= demand[j]\n",
    "            j += 1\n",
    "        else:\n",
    "            i += 1\n",
    "            j += 1\n",
    "    \n",
    "    return transportation_matrix\n"
   ]
  },
  {
   "cell_type": "code",
   "execution_count": 18,
   "id": "d9f1aea4",
   "metadata": {},
   "outputs": [],
   "source": [
    "def minimum_cost(data):\n",
    "    data_copy = data.copy()\n",
    "    \n",
    "    num_sources = len(data_copy['Source'].unique())\n",
    "    num_destinations = len(data_copy['Destination'].unique())\n",
    "    cost_matrix = np.zeros((num_sources, num_destinations))\n",
    "    \n",
    "    for i, source in enumerate(data_copy['Source'].unique()):\n",
    "        for j, destination in enumerate(data_copy['Destination'].unique()):\n",
    "            cost_matrix[i, j] = data_copy[(data_copy['Source'] == source) & (data_copy['Destination'] == destination)]['Cost '].values[0]\n",
    "    \n",
    "    row_ind, col_ind = linear_sum_assignment(cost_matrix)\n",
    "    \n",
    "    transportation_matrix = np.zeros_like(cost_matrix)\n",
    "    \n",
    "    for i, j in zip(row_ind, col_ind):\n",
    "        transportation_matrix[i, j] = min(data_copy[(data_copy['Source'] == data_copy['Source'].unique()[i]) & \n",
    "                                                     (data_copy['Destination'] == data_copy['Destination'].unique()[j])]['Demand'].values[0],\n",
    "                                          data_copy[(data_copy['Source'] == data_copy['Source'].unique()[i]) & \n",
    "                                                     (data_copy['Destination'] == data_copy['Destination'].unique()[j])]['Demand'].values[0])\n",
    "    \n",
    "    return transportation_matrix"
   ]
  },
  {
   "cell_type": "code",
   "execution_count": 19,
   "id": "f1519543",
   "metadata": {},
   "outputs": [
    {
     "name": "stdout",
     "output_type": "stream",
     "text": [
      "The minimum cost matrix : \n",
      "[[  0.  50.]\n",
      " [150.   0.]]\n"
     ]
    }
   ],
   "source": [
    "minimum_cost_matrix = minimum_cost(df)\n",
    "print(\"The minimum cost matrix : \")\n",
    "print(minimum_cost_matrix)"
   ]
  },
  {
   "cell_type": "code",
   "execution_count": 20,
   "id": "45fb4575",
   "metadata": {
    "scrolled": true
   },
   "outputs": [
    {
     "name": "stdout",
     "output_type": "stream",
     "text": [
      "Initial Feasible Solution using Northwest corner rule:\n",
      "[[150.   0.]\n",
      " [100. 150.]]\n"
     ]
    }
   ],
   "source": [
    "initial_solution = northwest_corner(df)\n",
    "print(\"Initial Feasible Solution using Northwest corner rule:\")\n",
    "print(initial_solution)"
   ]
  },
  {
   "cell_type": "code",
   "execution_count": 21,
   "id": "131896f2",
   "metadata": {},
   "outputs": [],
   "source": [
    "def solve_transportation_problem(cost_matrix, supply_vector, demand_vector):\n",
    "    c = cost_matrix.flatten()\n",
    "    \n",
    "    A_eq = []\n",
    "    for i in range(cost_matrix.shape[0]):\n",
    "        for j in range(cost_matrix.shape[1]):\n",
    "            row = [0] * (cost_matrix.shape[0] * cost_matrix.shape[1])\n",
    "            row[i * cost_matrix.shape[1] + j] = 1\n",
    "            A_eq.append(row)\n",
    "    b_eq = np.concatenate((supply_vector, demand_vector))\n",
    "    \n",
    "    bounds = [(0, None)] * len(c)\n",
    "    \n",
    "    res = linprog(c, A_eq=A_eq, b_eq=b_eq, bounds=bounds, method='highs')\n",
    "    \n",
    "    optimal_solution = np.reshape(res.x, cost_matrix.shape)\n",
    "    \n",
    "    return optimal_solution, res.fun"
   ]
  },
  {
   "cell_type": "code",
   "execution_count": 22,
   "id": "c61ec579",
   "metadata": {},
   "outputs": [],
   "source": [
    "supply_vector = df.groupby('Source')['Demand'].sum().values\n",
    "demand_vector = df.groupby('Destination')['Demand'].sum().values"
   ]
  },
  {
   "cell_type": "code",
   "execution_count": 23,
   "id": "9ab5298a",
   "metadata": {},
   "outputs": [
    {
     "name": "stdout",
     "output_type": "stream",
     "text": [
      "Supply Vector: [150 250]\n",
      "Demand Vector: [250 150]\n"
     ]
    }
   ],
   "source": [
    "print(\"Supply Vector:\", supply_vector)\n",
    "print(\"Demand Vector:\", demand_vector)"
   ]
  },
  {
   "cell_type": "code",
   "execution_count": 24,
   "id": "dce460e4",
   "metadata": {
    "scrolled": true
   },
   "outputs": [
    {
     "name": "stdout",
     "output_type": "stream",
     "text": [
      "Optimal Transportation Plan:\n",
      "[[150. 250.]\n",
      " [250. 150.]]\n",
      "[[150. 250.]\n",
      " [250. 150.]]\n",
      "Total Cost: 50000.0\n",
      "Total Cost: 70000.0\n"
     ]
    }
   ],
   "source": [
    "optimal_solution, total_cost = solve_transportation_problem(minimum_cost_matrix, supply_vector, demand_vector)\n",
    "optimal_solution1, total_cost1 = solve_transportation_problem(initial_solution, supply_vector, demand_vector)\n",
    "\n",
    "print(\"Optimal Transportation Plan:\")\n",
    "print(optimal_solution)\n",
    "print(optimal_solution1)\n",
    "print(\"Total Cost:\", total_cost)\n",
    "print(\"Total Cost:\", total_cost1)"
   ]
  },
  {
   "cell_type": "code",
   "execution_count": 25,
   "id": "e9f85c2d",
   "metadata": {},
   "outputs": [],
   "source": [
    "def plot_transportation_plan(optimal_solution):\n",
    "    plt.figure(figsize=(8, 6))\n",
    "    plt.imshow(optimal_solution, cmap='viridis', interpolation='nearest')\n",
    "\n",
    "    plt.xlabel('Destinations')\n",
    "    plt.ylabel('Sources')\n",
    "    \n",
    "    plt.title('Transportation Plan')\n",
    "    \n",
    "    plt.colorbar(label='Units transported')\n",
    "    \n",
    "    plt.grid(True, color='gray')\n",
    "    \n",
    "    plt.xticks(np.arange(optimal_solution.shape[1]), labels=['X', 'Y'])\n",
    "    plt.yticks(np.arange(optimal_solution.shape[0]), labels=['A', 'B'])\n",
    "    \n",
    "    plt.show()"
   ]
  },
  {
   "cell_type": "code",
   "execution_count": 26,
   "id": "dcc7cd22",
   "metadata": {
    "scrolled": true
   },
   "outputs": [
    {
     "data": {
      "image/png": "[encoded data removed]",
      "text/plain": [
       "<Figure size 800x600 with 2 Axes>"
      ]
     },
     "metadata": {},
     "output_type": "display_data"
    }
   ],
   "source": [
    "plot_transportation_plan(optimal_solution)"
   ]
  },
  {
   "cell_type": "code",
   "execution_count": 27,
   "id": "6a8da24b",
   "metadata": {},
   "outputs": [
    {
     "data": {
      "image/png": "[encoded data removed]",
      "text/plain": [
       "<Figure size 800x600 with 2 Axes>"
      ]
     },
     "metadata": {},
     "output_type": "display_data"
    }
   ],
   "source": [
    "plot_transportation_plan(optimal_solution1)"
   ]
  },
  {
   "cell_type": "code",
   "execution_count": null,
   "id": "84c07cc2",
   "metadata": {},
   "outputs": [],
   "source": []
  }
 ],
 "metadata": {
  "kernelspec": {
   "display_name": "Python 3 (ipykernel)",
   "language": "python",
   "name": "python3"
  },
  "language_info": {
   "codemirror_mode": {
    "name": "ipython",
    "version": 3
   },
   "file_extension": ".py",
   "mimetype": "text/x-python",
   "name": "python",
   "nbconvert_exporter": "python",
   "pygments_lexer": "ipython3",
   "version": "3.11.5"
  }
 },
 "nbformat": 4,
 "nbformat_minor": 5
}
