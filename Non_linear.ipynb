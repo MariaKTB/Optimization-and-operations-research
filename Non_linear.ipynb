{
 "cells": [
  {
   "cell_type": "code",
   "execution_count": 5,
   "id": "459a847c",
   "metadata": {},
   "outputs": [],
   "source": [
    "import numpy as np\n",
    "from scipy.optimize import minimize_scalar"
   ]
  },
  {
   "cell_type": "markdown",
   "id": "d17b0cac",
   "metadata": {},
   "source": [
    "# Golden section search algorithm "
   ]
  },
  {
   "cell_type": "code",
   "execution_count": 6,
   "id": "55bd878f",
   "metadata": {},
   "outputs": [],
   "source": [
    "def golden_section_search(f, x_min, x_max, epsilon):\n",
    "    gr = (np.sqrt(5) + 1) / 2 \n",
    "\n",
    "    a = x_min\n",
    "    b = x_max\n",
    "    c = b - (b - a) / gr\n",
    "    d = a + (b - a) / gr\n",
    "\n",
    "    while abs(c - d) > epsilon:\n",
    "        if f(c) < f(d):\n",
    "            b = d\n",
    "        else:\n",
    "            a = c\n",
    "\n",
    "        c = b - (b - a) / gr\n",
    "        d = a + (b - a) / gr\n",
    "\n",
    "    return (a + b) / 2"
   ]
  },
  {
   "cell_type": "markdown",
   "id": "9ea8cb76",
   "metadata": {},
   "source": [
    "# "
   ]
  },
  {
   "cell_type": "markdown",
   "id": "377f6269",
   "metadata": {},
   "source": [
    "# Define the function"
   ]
  },
  {
   "cell_type": "code",
   "execution_count": 7,
   "id": "07b8ab9c",
   "metadata": {},
   "outputs": [],
   "source": [
    "def f(x):\n",
    "    return -x**5 + 2*x**4 - 23*x**3 - 12*x**2 - 36*x"
   ]
  },
  {
   "cell_type": "markdown",
   "id": "6c7e0339",
   "metadata": {},
   "source": [
    "# Define the parameters DO NOT CHANGE  "
   ]
  },
  {
   "cell_type": "code",
   "execution_count": 13,
   "id": "d76d210b",
   "metadata": {},
   "outputs": [],
   "source": [
    "#Tolerence\n",
    "epsilon = 1e-6  \n",
    "# Initial guess for the minimum\n",
    "x_initial = 0.0\n",
    "# Step size for updating x\n",
    "alpha = 0.1\n",
    "# Maximum number of iterations\n",
    "max_iterations = 1000"
   ]
  },
  {
   "cell_type": "markdown",
   "id": "3c5f799f",
   "metadata": {},
   "source": [
    "# Define the range "
   ]
  },
  {
   "cell_type": "code",
   "execution_count": 14,
   "id": "7c07556d",
   "metadata": {},
   "outputs": [],
   "source": [
    "x_min = 2\n",
    "x_max = 3"
   ]
  },
  {
   "cell_type": "markdown",
   "id": "a39e94f9",
   "metadata": {},
   "source": [
    "# Apply the golden section search algorithm"
   ]
  },
  {
   "cell_type": "code",
   "execution_count": 15,
   "id": "f5e0711a",
   "metadata": {},
   "outputs": [
    {
     "name": "stdout",
     "output_type": "stream",
     "text": [
      "Optimal solution using golden section search: 2.9999981579926542\n"
     ]
    }
   ],
   "source": [
    "optimal_x_golden_section = golden_section_search(f, x_min, x_max, epsilon)\n",
    "print(\"Optimal solution using golden section search:\", optimal_x_golden_section)"
   ]
  },
  {
   "cell_type": "markdown",
   "id": "76124b7d",
   "metadata": {},
   "source": [
    "# Use the solver SciPy"
   ]
  },
  {
   "cell_type": "code",
   "execution_count": 16,
   "id": "64d8c777",
   "metadata": {},
   "outputs": [
    {
     "name": "stdout",
     "output_type": "stream",
     "text": [
      "Optimal solution using scipy.optimize.minimize_scalar: 2.999994039139014\n"
     ]
    }
   ],
   "source": [
    "result = minimize_scalar(f, bounds=(2, 3), method='bounded')\n",
    "print(\"Optimal solution using scipy.optimize.minimize_scalar:\", result.x)"
   ]
  }
 ],
 "metadata": {
  "kernelspec": {
   "display_name": "Python 3 (ipykernel)",
   "language": "python",
   "name": "python3"
  },
  "language_info": {
   "codemirror_mode": {
    "name": "ipython",
    "version": 3
   },
   "file_extension": ".py",
   "mimetype": "text/x-python",
   "name": "python",
   "nbconvert_exporter": "python",
   "pygments_lexer": "ipython3",
   "version": "3.11.5"
  }
 },
 "nbformat": 4,
 "nbformat_minor": 5
}
